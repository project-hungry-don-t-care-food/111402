{
 "cells": [
  {
   "cell_type": "code",
   "execution_count": null,
   "id": "4d35c446",
   "metadata": {
    "scrolled": false
   },
   "outputs": [
    {
     "name": "stdout",
     "output_type": "stream",
     "text": [
      " * Serving Flask app \"__main__\" (lazy loading)\n",
      " * Environment: production\n",
      "\u001b[31m   WARNING: This is a development server. Do not use it in a production deployment.\u001b[0m\n",
      "\u001b[2m   Use a production WSGI server instead.\u001b[0m\n",
      " * Debug mode: off\n"
     ]
    },
    {
     "name": "stderr",
     "output_type": "stream",
     "text": [
      " * Running on all addresses.\n",
      "   WARNING: This is a development server. Do not use it in a production deployment.\n",
      " * Running on http://10.0.0.4:5001/ (Press CTRL+C to quit)\n",
      "180.217.248.128 - - [14/Sep/2022 10:21:49] \"POST /test HTTP/1.1\" 200 -\n"
     ]
    }
   ],
   "source": [
    "from IPython.core.display import Image\n",
    "from flask import Flask\n",
    "from flask import request\n",
    "\n",
    "app = Flask(__name__)\n",
    "\n",
    "@app.route('/', methods = ['GET'])\n",
    "def index():\n",
    "    return \"\"\"\n",
    "    <form method='post' action='/test'>\n",
    "        <p>帳號:<input type='text' name='account'></p>\n",
    "        <p>密碼:<input type='text' name='passwd'></p>\n",
    "        <p><button type='submit'>確定</button></p>\n",
    "    </form>\n",
    "    \"\"\"\n",
    "\n",
    "@app.route('/test', methods = ['post'])\n",
    "def test():\n",
    "    account = request.values['account']\n",
    "    passwd = request.values['passwd']\n",
    "    \n",
    "    result_dict = {\"account\": account,\"passwd\": passwd}\n",
    "    \n",
    "    #return_test = \"帳號：{}, 密碼：{}\".format(account, passwd)\n",
    "    return result_dict\n",
    "\n",
    "if __name__ == '__main__':\n",
    "    app.run(host='0.0.0.0', port=\"5001\")  #, ssl_context='adhoc'"
   ]
  },
  {
   "cell_type": "code",
   "execution_count": null,
   "id": "83db1030",
   "metadata": {},
   "outputs": [],
   "source": []
  }
 ],
 "metadata": {
  "kernelspec": {
   "display_name": "Python 3 (ipykernel)",
   "language": "python",
   "name": "python3"
  },
  "language_info": {
   "codemirror_mode": {
    "name": "ipython",
    "version": 3
   },
   "file_extension": ".py",
   "mimetype": "text/x-python",
   "name": "python",
   "nbconvert_exporter": "python",
   "pygments_lexer": "ipython3",
   "version": "3.9.12"
  }
 },
 "nbformat": 4,
 "nbformat_minor": 5
}
