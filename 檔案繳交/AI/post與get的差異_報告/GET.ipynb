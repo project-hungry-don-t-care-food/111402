{
 "cells": [
  {
   "cell_type": "code",
   "execution_count": 2,
   "id": "476aa430",
   "metadata": {},
   "outputs": [
    {
     "name": "stdout",
     "output_type": "stream",
     "text": [
      " * Serving Flask app \"__main__\" (lazy loading)\n",
      " * Environment: production\n",
      "\u001b[31m   WARNING: This is a development server. Do not use it in a production deployment.\u001b[0m\n",
      "\u001b[2m   Use a production WSGI server instead.\u001b[0m\n",
      " * Debug mode: off\n"
     ]
    },
    {
     "name": "stderr",
     "output_type": "stream",
     "text": [
      " * Running on all addresses.\n",
      "   WARNING: This is a development server. Do not use it in a production deployment.\n",
      " * Running on http://10.0.0.4:5000/ (Press CTRL+C to quit)\n",
      "10.0.0.4 - - [08/Sep/2022 09:55:42] \"GET / HTTP/1.1\" 200 -\n",
      "10.0.0.4 - - [08/Sep/2022 09:55:42] \"GET /favicon.ico HTTP/1.1\" 404 -\n",
      "10.0.0.4 - - [08/Sep/2022 09:57:05] \"GET / HTTP/1.1\" 200 -\n",
      "180.176.129.55 - - [08/Sep/2022 10:17:35] \"GET / HTTP/1.1\" 200 -\n",
      "180.176.129.55 - - [08/Sep/2022 10:17:36] \"GET /favicon.ico HTTP/1.1\" 404 -\n",
      "150.117.167.151 - - [08/Sep/2022 10:18:24] \"GET / HTTP/1.1\" 200 -\n",
      "150.117.167.151 - - [08/Sep/2022 10:18:25] \"GET /favicon.ico HTTP/1.1\" 404 -\n",
      "120.97.28.47 - - [08/Sep/2022 10:18:33] \"GET / HTTP/1.1\" 200 -\n",
      "120.97.28.47 - - [08/Sep/2022 10:18:34] \"GET /favicon.ico HTTP/1.1\" 404 -\n",
      "120.97.28.47 - - [08/Sep/2022 10:18:44] \"GET / HTTP/1.1\" 200 -\n",
      "36.226.81.45 - - [08/Sep/2022 10:19:47] \"GET / HTTP/1.1\" 200 -\n",
      "36.226.81.45 - - [08/Sep/2022 10:19:48] \"GET /favicon.ico HTTP/1.1\" 404 -\n",
      "120.97.28.47 - - [08/Sep/2022 10:37:33] \"GET / HTTP/1.1\" 200 -\n",
      "10.0.0.4 - - [08/Sep/2022 10:41:12] \"GET /test?account=A&passwd=123 HTTP/1.1\" 200 -\n",
      "1.34.16.232 - - [08/Sep/2022 10:41:56] \"GET / HTTP/1.1\" 200 -\n",
      "1.34.16.232 - - [08/Sep/2022 10:41:56] \"GET /favicon.ico HTTP/1.1\" 404 -\n",
      "1.34.16.232 - - [08/Sep/2022 10:42:01] \"GET /test?account=&passwd= HTTP/1.1\" 200 -\n"
     ]
    }
   ],
   "source": [
    "from IPython.core.display import Image\n",
    "from flask import Flask\n",
    "from flask import request\n",
    "\n",
    "app = Flask(__name__)\n",
    "\n",
    "@app.route('/', methods = ['GET'])\n",
    "def index():\n",
    "    return \"\"\"\n",
    "    <form method='get' action='/test'>\n",
    "        <p>帳號:<input type='text' name='account'></p>\n",
    "        <p>密碼:<input type='text' name='passwd'></p>\n",
    "        <p><button type='submit'>確定</button></p>\n",
    "    </form>\n",
    "    \"\"\"\n",
    "\n",
    "@app.route('/test', methods = ['GET'])\n",
    "def test():\n",
    "    account = request.args.get('account')\n",
    "    passwd = request.args.get('passwd')\n",
    "    return_test = \"帳號：{}, 密碼：{}\".format(account, passwd)\n",
    "    return return_test\n",
    "\n",
    "if __name__ == '__main__':\n",
    "    app.run(host='0.0.0.0')"
   ]
  },
  {
   "cell_type": "code",
   "execution_count": null,
   "id": "112f9eec",
   "metadata": {},
   "outputs": [],
   "source": []
  }
 ],
 "metadata": {
  "kernelspec": {
   "display_name": "Python 3 (ipykernel)",
   "language": "python",
   "name": "python3"
  },
  "language_info": {
   "codemirror_mode": {
    "name": "ipython",
    "version": 3
   },
   "file_extension": ".py",
   "mimetype": "text/x-python",
   "name": "python",
   "nbconvert_exporter": "python",
   "pygments_lexer": "ipython3",
   "version": "3.9.12"
  }
 },
 "nbformat": 4,
 "nbformat_minor": 5
}
