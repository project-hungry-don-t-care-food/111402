{
 "cells": [
  {
   "cell_type": "code",
   "execution_count": null,
   "id": "e272d7f2",
   "metadata": {},
   "outputs": [],
   "source": [
    "from bs4 import BeautifulSoup\n",
    "import requests\n",
    "import os\n",
    "import matplotlib.pyplot as plt"
   ]
  },
  {
   "cell_type": "code",
   "execution_count": null,
   "id": "d1cf78df",
   "metadata": {},
   "outputs": [],
   "source": [
    "def to_img(url):\n",
    "    response = requests.get(url)\n",
    "    soup = BeautifulSoup(response.text, \"lxml\")\n",
    "    results = soup.find_all(\"img\", {\"class\": \"img-responsive previewImage\"})\n",
    "    url_name = soup.find(id=\"templateName\")\n",
    "    url_name = url_name.text.strip('\\n')\n",
    "    image_links = [result.get(\"src\") for result in results]\n",
    "    for index, link in enumerate(image_links):\n",
    "        img = requests.get(link)\n",
    "        with open(\"菜單圖片/\" + str(url_name) + str(index+1) + \".jpg\", \"wb\") as file:  # 開啟資料夾及命名圖片檔\n",
    "              file.write(img.content)  # 寫入圖片的二進位碼"
   ]
  },
  {
   "cell_type": "code",
   "execution_count": null,
   "id": "0e71f4b5",
   "metadata": {},
   "outputs": [],
   "source": [
    "#to_img(\"https://www.musthavemenus.com/menu-template/chalkboard-steakhouse-menu.html\")"
   ]
  },
  {
   "cell_type": "code",
   "execution_count": null,
   "id": "5bfaf7b1",
   "metadata": {},
   "outputs": [],
   "source": [
    "import csv\n",
    "# 開啟 CSV 檔案\n",
    "with open('menu_link.csv', newline='') as csvfile:\n",
    "    # 讀取 CSV 檔案內容\n",
    "    rows = csv.reader(csvfile)\n",
    "    print(\"總共\" + str(rows.line_num))\n",
    "    # 以迴圈輸出每一列\n",
    "    for index, row in enumerate(rows):\n",
    "    print(\"目前：\" + str(index))\n",
    "    to_img(row[0])"
   ]
  },
  {
   "cell_type": "code",
   "execution_count": null,
   "id": "b4fc8bd9",
   "metadata": {},
   "outputs": [],
   "source": []
  }
 ],
 "metadata": {
  "kernelspec": {
   "display_name": "Python 3 (ipykernel)",
   "language": "python",
   "name": "python3"
  },
  "language_info": {
   "codemirror_mode": {
    "name": "ipython",
    "version": 3
   },
   "file_extension": ".py",
   "mimetype": "text/x-python",
   "name": "python",
   "nbconvert_exporter": "python",
   "pygments_lexer": "ipython3",
   "version": "3.9.7"
  }
 },
 "nbformat": 4,
 "nbformat_minor": 5
}
