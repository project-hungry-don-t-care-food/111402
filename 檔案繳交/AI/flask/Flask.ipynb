{
 "cells": [
  {
   "cell_type": "code",
   "execution_count": 1,
   "metadata": {
    "id": "9xZ7O6rNkQJO"
   },
   "outputs": [],
   "source": [
    "# 2Cgo3ysthiZF4UGRmtAViko3bWr_4eC9s2WRv1kEWame8xih\n",
    "#!ngrok authtoken 2Cgo3ysthiZF4UGRmtAViko3bWr_4eC9s2WRv1kEWame8xih"
   ]
  },
  {
   "cell_type": "code",
   "execution_count": 2,
   "metadata": {
    "id": "092lffWibTy7",
    "scrolled": false
   },
   "outputs": [],
   "source": [
    "\"\"\"## 1. 匯入套件\"\"\"\n",
    "import numpy as np\n",
    "import tensorflow as tf\n",
    "from tensorflow.keras.applications.resnet50 import ResNet50, preprocess_input\n",
    "from tensorflow.keras.models import Sequential\n",
    "from tensorflow.keras.layers import Dense\n",
    "from tensorflow.keras.layers import Dropout\n",
    "from tensorflow.keras.layers import GlobalAveragePooling2D\n",
    "from tensorflow.keras.preprocessing.image import img_to_array\n",
    "from tensorflow.keras.preprocessing.image import load_img\n",
    "import pandas as pd\n",
    "\n",
    "import os\n",
    "#import cv2\n",
    "import matplotlib.pyplot as plt\n",
    "import warnings\n",
    "warnings.filterwarnings(\"ignore\")"
   ]
  },
  {
   "cell_type": "code",
   "execution_count": 3,
   "metadata": {
    "colab": {
     "base_uri": "https://localhost:8080/"
    },
    "executionInfo": {
     "elapsed": 4753,
     "status": "ok",
     "timestamp": 1665127373791,
     "user": {
      "displayName": "段宥任",
      "userId": "13882398319127726760"
     },
     "user_tz": -480
    },
    "id": "ieM3VHtQZEP-",
    "outputId": "5e15d5d5-849c-41e6-ffa3-b117fc0e2c83",
    "scrolled": false
   },
   "outputs": [
    {
     "name": "stdout",
     "output_type": "stream",
     "text": [
      "Model: \"sequential\"\n",
      "_________________________________________________________________\n",
      " Layer (type)                Output Shape              Param #   \n",
      "=================================================================\n",
      " resnet50 (Functional)       (None, 5, 5, 2048)        23587712  \n",
      "                                                                 \n",
      " dropout (Dropout)           (None, 5, 5, 2048)        0         \n",
      "                                                                 \n",
      " global_average_pooling2d (G  (None, 2048)             0         \n",
      " lobalAveragePooling2D)                                          \n",
      "                                                                 \n",
      " dropout_1 (Dropout)         (None, 2048)              0         \n",
      "                                                                 \n",
      " dense (Dense)               (None, 3)                 6147      \n",
      "                                                                 \n",
      "=================================================================\n",
      "Total params: 23,593,859\n",
      "Trainable params: 23,540,739\n",
      "Non-trainable params: 53,120\n",
      "_________________________________________________________________\n"
     ]
    }
   ],
   "source": [
    "\"\"\"## 2. 建立模型\"\"\"\n",
    "\n",
    "resnet_model_food_menu = ResNet50(weights=\"imagenet\", include_top=False, input_shape=(160, 160, 3))\n",
    "\n",
    "model_food_menu = Sequential()\n",
    "model_food_menu.add(resnet_model_food_menu)\n",
    "model_food_menu.add(Dropout(0.5))\n",
    "model_food_menu.add(GlobalAveragePooling2D())\n",
    "model_food_menu.add(Dropout(0.5))\n",
    "model_food_menu.add(Dense(3, activation=\"softmax\"))\n",
    "model_food_menu.summary()   # 顯示模型摘要資訊\n",
    "\n",
    "resnet_model_food_menu.trainable = False\n",
    "\n",
    "\"\"\"## 3. 匯入權重\"\"\"\n",
    "\n",
    "model_food_menu.load_weights(\"食物菜單_160_160_best_model.h5\")\n",
    "\n",
    "model_food_menu.compile(loss=\"categorical_crossentropy\", optimizer=\"adam\", metrics=[\"accuracy\"])"
   ]
  },
  {
   "cell_type": "code",
   "execution_count": 4,
   "metadata": {
    "colab": {
     "base_uri": "https://localhost:8080/"
    },
    "executionInfo": {
     "elapsed": 3765,
     "status": "ok",
     "timestamp": 1665127416893,
     "user": {
      "displayName": "段宥任",
      "userId": "13882398319127726760"
     },
     "user_tz": -480
    },
    "id": "N5sRONfFUkwi",
    "outputId": "024a2d46-5a37-4a23-93ba-18b92ddd23ed"
   },
   "outputs": [
    {
     "name": "stdout",
     "output_type": "stream",
     "text": [
      "Model: \"sequential_1\"\n",
      "_________________________________________________________________\n",
      " Layer (type)                Output Shape              Param #   \n",
      "=================================================================\n",
      " resnet50 (Functional)       (None, 7, 7, 2048)        23587712  \n",
      "                                                                 \n",
      " dropout_2 (Dropout)         (None, 7, 7, 2048)        0         \n",
      "                                                                 \n",
      " global_average_pooling2d_1   (None, 2048)             0         \n",
      " (GlobalAveragePooling2D)                                        \n",
      "                                                                 \n",
      " dense_1 (Dense)             (None, 50)                102450    \n",
      "                                                                 \n",
      " dropout_3 (Dropout)         (None, 50)                0         \n",
      "                                                                 \n",
      " dense_2 (Dense)             (None, 18)                918       \n",
      "                                                                 \n",
      "=================================================================\n",
      "Total params: 23,691,080\n",
      "Trainable params: 23,637,960\n",
      "Non-trainable params: 53,120\n",
      "_________________________________________________________________\n"
     ]
    }
   ],
   "source": [
    "resnet_model_food_categorical = ResNet50(weights=\"imagenet\", include_top=False, input_shape=(200, 200, 3))\n",
    "\n",
    "model_food_categorical = Sequential()\n",
    "model_food_categorical.add(resnet_model_food_categorical)\n",
    "model_food_categorical.add(Dropout(0.5))\n",
    "model_food_categorical.add(GlobalAveragePooling2D())\n",
    "model_food_categorical.add(Dense(50))\n",
    "model_food_categorical.add(Dropout(0.5))\n",
    "model_food_categorical.add(Dense(18, activation=\"softmax\"))\n",
    "model_food_categorical.summary()   # 顯示模型摘要資訊\n",
    "\n",
    "resnet_model_food_categorical.trainable = False\n",
    "\n",
    "model_food_categorical.load_weights(\"食物類別_200_200_best_model.h5\")\n",
    "\n",
    "model_food_categorical.compile(loss=\"categorical_crossentropy\", optimizer=\"adam\", metrics=[\"accuracy\"])\n",
    "\n",
    "num_of_label = {'bawan': 0, 'beef_noodles': 1, 'braised_pork_over_rice': 2, 'bubble_tea': 3, 'coffin_toast': 4, 'deep-fried_chicken_cutlets': 5, 'grilled_taiwanese_sausage': 6, 'hot_sour_soup': 7, 'intestine_and_oyster_vermicelli': 8, 'milkfish_belly_congee': 9, 'oyster_omelet': 10, 'pig_s_blood_soup': 11, 'pineapple_cake': 12, 'potsticker': 13, 'rice_dumpling': 14, 'stinky_tofu': 15, 'taro_ball': 16, 'xiaolongbao': 17}\n",
    "eng_ch_label_dict = pd.read_csv(\"食物分類_中英對照_18.csv\", index_col=0, squeeze=True).to_dict()"
   ]
  },
  {
   "cell_type": "code",
   "execution_count": 12,
   "metadata": {
    "id": "dMxlKndDUmUu"
   },
   "outputs": [],
   "source": [
    "def pre_food_menu(img):\n",
    "    img_np = np.empty((1,160,160,3))\n",
    "    img_np[0] = img\n",
    "    img_np = preprocess_input(img_np)\n",
    "    result = model_food_menu.predict(img_np)\n",
    "    np.set_printoptions(formatter={'float': '{: 0.5f}'.format})\n",
    "    print(\"全部預測結果：\")\n",
    "    print(result)\n",
    "    print(\"機率最高：\", end = \"\")\n",
    "    print(result.max())\n",
    "    maxindex = np.argmax(result, axis = 1)\n",
    "    print(\"個別結果：\")\n",
    "    for index, i in enumerate(maxindex):\n",
    "        print(\"第\" + str(index + 1) + \"張：\", end = \"\")\n",
    "        if i == 0:\n",
    "            print(\"食物\")\n",
    "            return (\"食物,\") + str(result.max())\n",
    "        if i == 1:\n",
    "            print(\"非食物\")\n",
    "            return (\"非食物,\") + str(result.max())\n",
    "        if i == 2:\n",
    "            print(\"菜單\")\n",
    "            return (\"菜單,\") + str(result.max())"
   ]
  },
  {
   "cell_type": "code",
   "execution_count": 13,
   "metadata": {
    "id": "4iQAnxnmUoVs"
   },
   "outputs": [],
   "source": [
    "def pre_food_categorical(img):\n",
    "    img_np = np.empty((1,200,200,3))\n",
    "    img_np[0] = img\n",
    "    img_np = preprocess_input(img_np)\n",
    "    result = model_food_categorical.predict(img_np)\n",
    "    np.set_printoptions(formatter={'float': '{: 0.5f}'.format})\n",
    "    print(\"全部預測結果：\")\n",
    "    print(result)\n",
    "    print(\"機率最高：\", end = \"\")\n",
    "    print(result.max())\n",
    "    maxindex = np.argmax(result, axis = 1)\n",
    "    print(\"個別結果：\")\n",
    "    for index, i in enumerate(maxindex):\n",
    "        print(\"第\" + str(index + 1) + \"張：\", end = \"\")\n",
    "        key = [k for k, v in num_of_label.items() if v == maxindex][0]\n",
    "        ch_key = eng_ch_label_dict[key]\n",
    "        print(ch_key)\n",
    "        return ch_key + \",\" + str(result.max())"
   ]
  },
  {
   "cell_type": "code",
   "execution_count": 14,
   "metadata": {
    "colab": {
     "base_uri": "https://localhost:8080/"
    },
    "executionInfo": {
     "elapsed": 85905,
     "status": "ok",
     "timestamp": 1665131090079,
     "user": {
      "displayName": "段宥任",
      "userId": "13882398319127726760"
     },
     "user_tz": -480
    },
    "id": "YimMwl4WUrpF",
    "outputId": "d7a0fa76-7c28-4617-a10f-397e7eaa895f",
    "scrolled": false
   },
   "outputs": [
    {
     "name": "stdout",
     "output_type": "stream",
     "text": [
      " * Serving Flask app \"__main__\" (lazy loading)\n",
      " * Environment: production\n",
      "\u001b[31m   WARNING: This is a development server. Do not use it in a production deployment.\u001b[0m\n",
      "\u001b[2m   Use a production WSGI server instead.\u001b[0m\n",
      " * Debug mode: off\n"
     ]
    },
    {
     "name": "stderr",
     "output_type": "stream",
     "text": [
      " * Running on http://127.0.0.1:5000/ (Press CTRL+C to quit)\n",
      "127.0.0.1 - - [08/Oct/2022 01:49:04] \"POST /food_categorical HTTP/1.1\" 200 -\n"
     ]
    },
    {
     "name": "stdout",
     "output_type": "stream",
     "text": [
      "全部預測結果：\n",
      "[[ 0.00518  0.00000  0.00000  0.00000  0.00208  0.00001  0.00001  0.00000\n",
      "   0.00000  0.00000  0.99264  0.00000  0.00000  0.00007  0.00001  0.00000\n",
      "   0.00000  0.00000]]\n",
      "機率最高：0.99263775\n",
      "個別結果：\n",
      "第1張：蚵仔煎\n"
     ]
    },
    {
     "name": "stderr",
     "output_type": "stream",
     "text": [
      "127.0.0.1 - - [08/Oct/2022 01:50:54] \"POST /food_menu HTTP/1.1\" 200 -\n"
     ]
    },
    {
     "name": "stdout",
     "output_type": "stream",
     "text": [
      "全部預測結果：\n",
      "[[ 1.00000  0.00000  0.00000]]\n",
      "機率最高：0.99999666\n",
      "個別結果：\n",
      "第1張：食物\n"
     ]
    },
    {
     "name": "stderr",
     "output_type": "stream",
     "text": [
      "127.0.0.1 - - [08/Oct/2022 01:50:54] \"POST /food_menu HTTP/1.1\" 200 -\n"
     ]
    },
    {
     "name": "stdout",
     "output_type": "stream",
     "text": [
      "全部預測結果：\n",
      "[[ 1.00000  0.00000  0.00000]]\n",
      "機率最高：0.99999666\n",
      "個別結果：\n",
      "第1張：食物\n"
     ]
    },
    {
     "name": "stderr",
     "output_type": "stream",
     "text": [
      "127.0.0.1 - - [08/Oct/2022 01:53:52] \"POST /food_menu HTTP/1.1\" 200 -\n"
     ]
    },
    {
     "name": "stdout",
     "output_type": "stream",
     "text": [
      "全部預測結果：\n",
      "[[ 1.00000  0.00000  0.00000]]\n",
      "機率最高：0.99999666\n",
      "個別結果：\n",
      "第1張：食物\n"
     ]
    },
    {
     "name": "stderr",
     "output_type": "stream",
     "text": [
      "127.0.0.1 - - [08/Oct/2022 01:54:25] \"POST /food_menu HTTP/1.1\" 200 -\n"
     ]
    },
    {
     "name": "stdout",
     "output_type": "stream",
     "text": [
      "全部預測結果：\n",
      "[[ 1.00000  0.00000  0.00000]]\n",
      "機率最高：0.99999666\n",
      "個別結果：\n",
      "第1張：食物\n"
     ]
    }
   ],
   "source": [
    "from flask import Flask\n",
    "from flask import request\n",
    "#from flask_ngrok import run_with_ngrok\n",
    "\n",
    "from PIL import Image\n",
    "from io import BytesIO\n",
    "import base64\n",
    "\n",
    "app = Flask(__name__)\n",
    "#run_with_ngrok(app)\n",
    "\n",
    "@app.route('/food_menu', methods = ['GET', 'POST'])\n",
    "def food_menu():\n",
    "    if request.method == 'GET': #<p><input type='file' required name='image' accept= \"image/gif, image/jpeg, image/jpg, image/png\"></p>\n",
    "        return \"\"\"\n",
    "        <form method='post' action='' enctype=\"multipart/form-data\">\n",
    "            <p><input type='text' required name='str_of_image'/></p>\n",
    "            <p><button type='submit'>確定</button></p>\n",
    "        </form>\n",
    "        \"\"\"\n",
    "    else:\n",
    "        try:\n",
    "            #img = Image.open(request.files['image'].stream).resize((160, 160)).convert('RGB')\n",
    "            #result = pre_food_menu(img)\n",
    "            \n",
    "            result = {}\n",
    "            str_of_img = request.values['str_of_image']\n",
    "            img = Image.open(BytesIO(base64.b64decode(str_of_img))).resize((160, 160)).convert('RGB')\n",
    "            result = pre_food_menu(img)\n",
    "\n",
    "            return result\n",
    "        except Exception as e:\n",
    "            print(\"錯誤：\", e)\n",
    "            return e\n",
    "        \n",
    "@app.route('/food_categorical', methods = ['GET', 'POST'])\n",
    "def food_categorical():\n",
    "    if request.method == 'GET': #<p><input type='file' required name='image' accept= \"image/gif, image/jpeg, image/jpg, image/png\"></p>\n",
    "        return \"\"\"\n",
    "        <form method='post' action='' enctype=\"multipart/form-data\">\n",
    "            <p><input type='text' required name='str_of_image'/></p>\n",
    "            <p><button type='submit'>確定</button></p>\n",
    "        </form>\n",
    "        \"\"\"\n",
    "    else:\n",
    "        try:\n",
    "            #img = Image.open(request.files['image'].stream).resize((200, 200)).convert('RGB')\n",
    "            #result = pre_food_categorical(img)\n",
    "\n",
    "            result = {}\n",
    "            str_of_img = request.values['str_of_image']\n",
    "            img = Image.open(BytesIO(base64.b64decode(str_of_img))).resize((200, 200)).convert('RGB')\n",
    "            result = pre_food_categorical(img)\n",
    "\n",
    "            return result\n",
    "        except Exception as e:\n",
    "            print(\"錯誤：\", e)\n",
    "            return e\n",
    "\n",
    "if __name__ == '__main__':\n",
    "    app.run()"
   ]
  },
  {
   "cell_type": "code",
   "execution_count": null,
   "metadata": {},
   "outputs": [],
   "source": []
  }
 ],
 "metadata": {
  "colab": {
   "collapsed_sections": [],
   "provenance": []
  },
  "kernelspec": {
   "display_name": "Python 3 (ipykernel)",
   "language": "python",
   "name": "python3"
  },
  "language_info": {
   "codemirror_mode": {
    "name": "ipython",
    "version": 3
   },
   "file_extension": ".py",
   "mimetype": "text/x-python",
   "name": "python",
   "nbconvert_exporter": "python",
   "pygments_lexer": "ipython3",
   "version": "3.9.7"
  }
 },
 "nbformat": 4,
 "nbformat_minor": 1
}
