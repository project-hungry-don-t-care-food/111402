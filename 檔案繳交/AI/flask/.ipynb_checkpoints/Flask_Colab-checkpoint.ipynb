{
 "cells": [
  {
   "cell_type": "code",
   "execution_count": 63,
   "metadata": {
    "colab": {
     "base_uri": "https://localhost:8080/"
    },
    "executionInfo": {
     "elapsed": 2442,
     "status": "ok",
     "timestamp": 1665132388694,
     "user": {
      "displayName": "段宥任",
      "userId": "13882398319127726760"
     },
     "user_tz": -480
    },
    "id": "XAXZM4TRABDX",
    "outputId": "6a51ff5a-18a3-4c17-85d5-012cd4a9ae24"
   },
   "outputs": [
    {
     "name": "stdout",
     "output_type": "stream",
     "text": [
      "Drive already mounted at /content/drive; to attempt to forcibly remount, call drive.mount(\"/content/drive\", force_remount=True).\n"
     ]
    }
   ],
   "source": [
    "from google.colab import drive\n",
    "drive.mount('/content/drive')"
   ]
  },
  {
   "cell_type": "code",
   "execution_count": 64,
   "metadata": {
    "colab": {
     "base_uri": "https://localhost:8080/"
    },
    "executionInfo": {
     "elapsed": 13280,
     "status": "ok",
     "timestamp": 1665132401969,
     "user": {
      "displayName": "段宥任",
      "userId": "13882398319127726760"
     },
     "user_tz": -480
    },
    "id": "123h7Trm_Hkr",
    "outputId": "9ff70ccc-f4e8-4201-a68a-804a36cfb2d1"
   },
   "outputs": [
    {
     "name": "stdout",
     "output_type": "stream",
     "text": [
      "Looking in indexes: https://pypi.org/simple, https://us-python.pkg.dev/colab-wheels/public/simple/\n",
      "Requirement already satisfied: pyngrok==4.1.1 in /usr/local/lib/python3.7/dist-packages (4.1.1)\n",
      "Requirement already satisfied: PyYAML in /usr/local/lib/python3.7/dist-packages (from pyngrok==4.1.1) (6.0)\n",
      "Requirement already satisfied: future in /usr/local/lib/python3.7/dist-packages (from pyngrok==4.1.1) (0.16.0)\n",
      "Looking in indexes: https://pypi.org/simple, https://us-python.pkg.dev/colab-wheels/public/simple/\n",
      "Requirement already satisfied: flask-ngrok in /usr/local/lib/python3.7/dist-packages (0.0.25)\n",
      "Requirement already satisfied: Flask>=0.8 in /usr/local/lib/python3.7/dist-packages (from flask-ngrok) (1.1.4)\n",
      "Requirement already satisfied: requests in /usr/local/lib/python3.7/dist-packages (from flask-ngrok) (2.23.0)\n",
      "Requirement already satisfied: Jinja2<3.0,>=2.10.1 in /usr/local/lib/python3.7/dist-packages (from Flask>=0.8->flask-ngrok) (2.11.3)\n",
      "Requirement already satisfied: Werkzeug<2.0,>=0.15 in /usr/local/lib/python3.7/dist-packages (from Flask>=0.8->flask-ngrok) (1.0.1)\n",
      "Requirement already satisfied: itsdangerous<2.0,>=0.24 in /usr/local/lib/python3.7/dist-packages (from Flask>=0.8->flask-ngrok) (1.1.0)\n",
      "Requirement already satisfied: click<8.0,>=5.1 in /usr/local/lib/python3.7/dist-packages (from Flask>=0.8->flask-ngrok) (7.1.2)\n",
      "Requirement already satisfied: MarkupSafe>=0.23 in /usr/local/lib/python3.7/dist-packages (from Jinja2<3.0,>=2.10.1->Flask>=0.8->flask-ngrok) (2.0.1)\n",
      "Requirement already satisfied: chardet<4,>=3.0.2 in /usr/local/lib/python3.7/dist-packages (from requests->flask-ngrok) (3.0.4)\n",
      "Requirement already satisfied: urllib3!=1.25.0,!=1.25.1,<1.26,>=1.21.1 in /usr/local/lib/python3.7/dist-packages (from requests->flask-ngrok) (1.24.3)\n",
      "Requirement already satisfied: idna<3,>=2.5 in /usr/local/lib/python3.7/dist-packages (from requests->flask-ngrok) (2.10)\n",
      "Requirement already satisfied: certifi>=2017.4.17 in /usr/local/lib/python3.7/dist-packages (from requests->flask-ngrok) (2022.9.24)\n"
     ]
    }
   ],
   "source": [
    "!pip install pyngrok==4.1.1\n",
    "!pip install flask-ngrok"
   ]
  },
  {
   "cell_type": "code",
   "execution_count": 65,
   "metadata": {
    "colab": {
     "base_uri": "https://localhost:8080/"
    },
    "executionInfo": {
     "elapsed": 648,
     "status": "ok",
     "timestamp": 1665132402611,
     "user": {
      "displayName": "段宥任",
      "userId": "13882398319127726760"
     },
     "user_tz": -480
    },
    "id": "295JQlBg_UzP",
    "outputId": "8f37beb0-d825-4bcb-9a47-bbfb17e2f5fe",
    "scrolled": false
   },
   "outputs": [
    {
     "name": "stdout",
     "output_type": "stream",
     "text": [
      "Authtoken saved to configuration file: /root/.ngrok2/ngrok.yml\n"
     ]
    }
   ],
   "source": [
    "# 2Cgo3ysthiZF4UGRmtAViko3bWr_4eC9s2WRv1kEWame8xih\n",
    "!ngrok authtoken 2Cgo3ysthiZF4UGRmtAViko3bWr_4eC9s2WRv1kEWame8xih"
   ]
  },
  {
   "cell_type": "code",
   "execution_count": 66,
   "metadata": {
    "executionInfo": {
     "elapsed": 14,
     "status": "ok",
     "timestamp": 1665132402613,
     "user": {
      "displayName": "段宥任",
      "userId": "13882398319127726760"
     },
     "user_tz": -480
    },
    "id": "092lffWibTy7",
    "scrolled": false
   },
   "outputs": [],
   "source": [
    "\"\"\"## 1. 匯入套件\"\"\"\n",
    "import numpy as np\n",
    "import tensorflow as tf\n",
    "from tensorflow.keras.applications.resnet50 import ResNet50, preprocess_input\n",
    "from tensorflow.keras.models import Sequential\n",
    "from tensorflow.keras.layers import Dense\n",
    "from tensorflow.keras.layers import Dropout\n",
    "from tensorflow.keras.layers import GlobalAveragePooling2D\n",
    "from tensorflow.keras.preprocessing.image import img_to_array\n",
    "from tensorflow.keras.preprocessing.image import load_img\n",
    "import pandas as pd\n",
    "\n",
    "import os\n",
    "#import cv2\n",
    "import matplotlib.pyplot as plt\n",
    "import warnings\n",
    "warnings.filterwarnings(\"ignore\")"
   ]
  },
  {
   "cell_type": "code",
   "execution_count": 67,
   "metadata": {
    "colab": {
     "base_uri": "https://localhost:8080/"
    },
    "executionInfo": {
     "elapsed": 2987,
     "status": "ok",
     "timestamp": 1665132405589,
     "user": {
      "displayName": "段宥任",
      "userId": "13882398319127726760"
     },
     "user_tz": -480
    },
    "id": "ieM3VHtQZEP-",
    "outputId": "482ffd07-8552-4e9c-df91-1fdb734a69ef",
    "scrolled": false
   },
   "outputs": [
    {
     "name": "stdout",
     "output_type": "stream",
     "text": [
      "Model: \"sequential_6\"\n",
      "_________________________________________________________________\n",
      " Layer (type)                Output Shape              Param #   \n",
      "=================================================================\n",
      " resnet50 (Functional)       (None, 5, 5, 2048)        23587712  \n",
      "                                                                 \n",
      " dropout_12 (Dropout)        (None, 5, 5, 2048)        0         \n",
      "                                                                 \n",
      " global_average_pooling2d_6   (None, 2048)             0         \n",
      " (GlobalAveragePooling2D)                                        \n",
      "                                                                 \n",
      " dropout_13 (Dropout)        (None, 2048)              0         \n",
      "                                                                 \n",
      " dense_10 (Dense)            (None, 3)                 6147      \n",
      "                                                                 \n",
      "=================================================================\n",
      "Total params: 23,593,859\n",
      "Trainable params: 23,540,739\n",
      "Non-trainable params: 53,120\n",
      "_________________________________________________________________\n"
     ]
    }
   ],
   "source": [
    "\"\"\"## 2. 建立模型\"\"\"\n",
    "\n",
    "resnet_model_food_menu = ResNet50(weights=\"imagenet\", include_top=False, input_shape=(160, 160, 3))\n",
    "\n",
    "model_food_menu = Sequential()\n",
    "model_food_menu.add(resnet_model_food_menu)\n",
    "model_food_menu.add(Dropout(0.5))\n",
    "model_food_menu.add(GlobalAveragePooling2D())\n",
    "model_food_menu.add(Dropout(0.5))\n",
    "model_food_menu.add(Dense(3, activation=\"softmax\"))\n",
    "model_food_menu.summary()   # 顯示模型摘要資訊\n",
    "\n",
    "resnet_model_food_menu.trainable = False\n",
    "\n",
    "\"\"\"## 3. 匯入權重\"\"\"\n",
    "\n",
    "model_food_menu.load_weights(\"/content/drive/MyDrive/AI_共用/flask/食物菜單_160_160_best_model.h5\")\n",
    "\n",
    "model_food_menu.compile(loss=\"categorical_crossentropy\", optimizer=\"adam\", metrics=[\"accuracy\"])"
   ]
  },
  {
   "cell_type": "code",
   "execution_count": 68,
   "metadata": {
    "colab": {
     "base_uri": "https://localhost:8080/"
    },
    "executionInfo": {
     "elapsed": 3095,
     "status": "ok",
     "timestamp": 1665132408679,
     "user": {
      "displayName": "段宥任",
      "userId": "13882398319127726760"
     },
     "user_tz": -480
    },
    "id": "N5sRONfFUkwi",
    "outputId": "a48c2a53-f9cd-42b0-b450-96f4b4ff231a"
   },
   "outputs": [
    {
     "name": "stdout",
     "output_type": "stream",
     "text": [
      "Model: \"sequential_7\"\n",
      "_________________________________________________________________\n",
      " Layer (type)                Output Shape              Param #   \n",
      "=================================================================\n",
      " resnet50 (Functional)       (None, 7, 7, 2048)        23587712  \n",
      "                                                                 \n",
      " dropout_14 (Dropout)        (None, 7, 7, 2048)        0         \n",
      "                                                                 \n",
      " global_average_pooling2d_7   (None, 2048)             0         \n",
      " (GlobalAveragePooling2D)                                        \n",
      "                                                                 \n",
      " dense_11 (Dense)            (None, 50)                102450    \n",
      "                                                                 \n",
      " dropout_15 (Dropout)        (None, 50)                0         \n",
      "                                                                 \n",
      " dense_12 (Dense)            (None, 18)                918       \n",
      "                                                                 \n",
      "=================================================================\n",
      "Total params: 23,691,080\n",
      "Trainable params: 23,637,960\n",
      "Non-trainable params: 53,120\n",
      "_________________________________________________________________\n"
     ]
    }
   ],
   "source": [
    "resnet_model_food_categorical = ResNet50(weights=\"imagenet\", include_top=False, input_shape=(200, 200, 3))\n",
    "\n",
    "model_food_categorical = Sequential()\n",
    "model_food_categorical.add(resnet_model_food_categorical)\n",
    "model_food_categorical.add(Dropout(0.5))\n",
    "model_food_categorical.add(GlobalAveragePooling2D())\n",
    "model_food_categorical.add(Dense(50))\n",
    "model_food_categorical.add(Dropout(0.5))\n",
    "model_food_categorical.add(Dense(18, activation=\"softmax\"))\n",
    "model_food_categorical.summary()   # 顯示模型摘要資訊\n",
    "\n",
    "resnet_model_food_categorical.trainable = False\n",
    "\n",
    "model_food_categorical.load_weights(\"/content/drive/MyDrive/AI_共用/flask/食物類別_200_200_best_model.h5\")\n",
    "\n",
    "model_food_categorical.compile(loss=\"categorical_crossentropy\", optimizer=\"adam\", metrics=[\"accuracy\"])\n",
    "\n",
    "num_of_label = {'bawan': 0, 'beef_noodles': 1, 'braised_pork_over_rice': 2, 'bubble_tea': 3, 'coffin_toast': 4, 'deep-fried_chicken_cutlets': 5, 'grilled_taiwanese_sausage': 6, 'hot_sour_soup': 7, 'intestine_and_oyster_vermicelli': 8, 'milkfish_belly_congee': 9, 'oyster_omelet': 10, 'pig_s_blood_soup': 11, 'pineapple_cake': 12, 'potsticker': 13, 'rice_dumpling': 14, 'stinky_tofu': 15, 'taro_ball': 16, 'xiaolongbao': 17}\n",
    "eng_ch_label_dict = pd.read_csv(\"/content/drive/MyDrive/AI_共用/flask/食物分類_中英對照_18.csv\", index_col=0, squeeze=True).to_dict()"
   ]
  },
  {
   "cell_type": "code",
   "execution_count": 69,
   "metadata": {
    "executionInfo": {
     "elapsed": 12,
     "status": "ok",
     "timestamp": 1665132408681,
     "user": {
      "displayName": "段宥任",
      "userId": "13882398319127726760"
     },
     "user_tz": -480
    },
    "id": "dMxlKndDUmUu"
   },
   "outputs": [],
   "source": [
    "def pre_food_menu(img):\n",
    "    img_np = np.empty((1,160,160,3))\n",
    "    img_np[0] = img\n",
    "    img_np = preprocess_input(img_np)\n",
    "    result = model_food_menu.predict(img_np)\n",
    "    np.set_printoptions(formatter={'float': '{: 0.5f}'.format})\n",
    "    print(\"全部預測結果：\")\n",
    "    print(result)\n",
    "    print(\"機率最高：\", end = \"\")\n",
    "    print(result.max())\n",
    "    maxindex = np.argmax(result, axis = 1)\n",
    "    print(\"個別結果：\")\n",
    "    for index, i in enumerate(maxindex):\n",
    "        print(\"第\" + str(index + 1) + \"張：\", end = \"\")\n",
    "        if i == 0:\n",
    "            print(\"食物\")\n",
    "            return (\"食物,\") + str(result.max())\n",
    "        if i == 1:\n",
    "            print(\"非食物\")\n",
    "            return (\"非食物,\") + str(result.max())\n",
    "        if i == 2:\n",
    "            print(\"菜單\")\n",
    "            return (\"菜單,\") + str(result.max())"
   ]
  },
  {
   "cell_type": "code",
   "execution_count": 70,
   "metadata": {
    "executionInfo": {
     "elapsed": 12,
     "status": "ok",
     "timestamp": 1665132408682,
     "user": {
      "displayName": "段宥任",
      "userId": "13882398319127726760"
     },
     "user_tz": -480
    },
    "id": "4iQAnxnmUoVs"
   },
   "outputs": [],
   "source": [
    "def pre_food_categorical(img):\n",
    "    img_np = np.empty((1,200,200,3))\n",
    "    img_np[0] = img\n",
    "    img_np = preprocess_input(img_np)\n",
    "    result = model_food_categorical.predict(img_np)\n",
    "    np.set_printoptions(formatter={'float': '{: 0.5f}'.format})\n",
    "    print(\"全部預測結果：\")\n",
    "    print(result)\n",
    "    print(\"機率最高：\", end = \"\")\n",
    "    print(result.max())\n",
    "    maxindex = np.argmax(result, axis = 1)\n",
    "    print(\"個別結果：\")\n",
    "    for index, i in enumerate(maxindex):\n",
    "        print(\"第\" + str(index + 1) + \"張：\", end = \"\")\n",
    "        key = [k for k, v in num_of_label.items() if v == maxindex][0]\n",
    "        ch_key = eng_ch_label_dict[key]\n",
    "        print(ch_key)\n",
    "        return ch_key + \",\" + str(result.max())"
   ]
  },
  {
   "cell_type": "code",
   "execution_count": 71,
   "metadata": {
    "colab": {
     "base_uri": "https://localhost:8080/"
    },
    "executionInfo": {
     "elapsed": 213759,
     "status": "ok",
     "timestamp": 1665132622430,
     "user": {
      "displayName": "段宥任",
      "userId": "13882398319127726760"
     },
     "user_tz": -480
    },
    "id": "YimMwl4WUrpF",
    "outputId": "46ee08d0-9722-4983-ee7e-dcfb656d178e"
   },
   "outputs": [
    {
     "name": "stdout",
     "output_type": "stream",
     "text": [
      " * Serving Flask app \"__main__\" (lazy loading)\n",
      " * Environment: production\n",
      "\u001b[31m   WARNING: This is a development server. Do not use it in a production deployment.\u001b[0m\n",
      "\u001b[2m   Use a production WSGI server instead.\u001b[0m\n",
      " * Debug mode: off\n"
     ]
    },
    {
     "name": "stderr",
     "output_type": "stream",
     "text": [
      "INFO:werkzeug: * Running on http://127.0.0.1:5000/ (Press CTRL+C to quit)\n"
     ]
    },
    {
     "name": "stdout",
     "output_type": "stream",
     "text": [
      " * Running on http://00b2-35-230-83-138.ngrok.io\n",
      " * Traffic stats available on http://127.0.0.1:4040\n"
     ]
    },
    {
     "name": "stderr",
     "output_type": "stream",
     "text": [
      "INFO:werkzeug:127.0.0.1 - - [07/Oct/2022 08:47:39] \"\u001b[37mGET /food_categorical HTTP/1.1\u001b[0m\" 200 -\n",
      "INFO:werkzeug:127.0.0.1 - - [07/Oct/2022 08:47:40] \"\u001b[33mGET /favicon.ico HTTP/1.1\u001b[0m\" 404 -\n",
      "ERROR:__main__:Exception on /food_categorical [POST]\n",
      "Traceback (most recent call last):\n",
      "  File \"/usr/local/lib/python3.7/dist-packages/flask/app.py\", line 2447, in wsgi_app\n",
      "    response = self.full_dispatch_request()\n",
      "  File \"/usr/local/lib/python3.7/dist-packages/flask/app.py\", line 1953, in full_dispatch_request\n",
      "    return self.finalize_request(rv)\n",
      "  File \"/usr/local/lib/python3.7/dist-packages/flask/app.py\", line 1968, in finalize_request\n",
      "    response = self.make_response(rv)\n",
      "  File \"/usr/local/lib/python3.7/dist-packages/flask/app.py\", line 2131, in make_response\n",
      "    \" {rv.__class__.__name__}.\".format(rv=rv)\n",
      "TypeError: The view function did not return a valid response. The return type must be a string, dict, tuple, Response instance, or WSGI callable, but it was a UnidentifiedImageError.\n",
      "INFO:werkzeug:127.0.0.1 - - [07/Oct/2022 08:47:48] \"\u001b[35m\u001b[1mPOST /food_categorical HTTP/1.1\u001b[0m\" 500 -\n"
     ]
    },
    {
     "name": "stdout",
     "output_type": "stream",
     "text": [
      "錯誤： cannot identify image file <_io.BytesIO object at 0x7f2de6c4f110>\n"
     ]
    },
    {
     "name": "stderr",
     "output_type": "stream",
     "text": [
      "ERROR:__main__:Exception on /food_categorical [POST]\n",
      "Traceback (most recent call last):\n",
      "  File \"/usr/local/lib/python3.7/dist-packages/flask/app.py\", line 2447, in wsgi_app\n",
      "    response = self.full_dispatch_request()\n",
      "  File \"/usr/local/lib/python3.7/dist-packages/flask/app.py\", line 1953, in full_dispatch_request\n",
      "    return self.finalize_request(rv)\n",
      "  File \"/usr/local/lib/python3.7/dist-packages/flask/app.py\", line 1968, in finalize_request\n",
      "    response = self.make_response(rv)\n",
      "  File \"/usr/local/lib/python3.7/dist-packages/flask/app.py\", line 2131, in make_response\n",
      "    \" {rv.__class__.__name__}.\".format(rv=rv)\n",
      "TypeError: The view function did not return a valid response. The return type must be a string, dict, tuple, Response instance, or WSGI callable, but it was a Error.\n",
      "INFO:werkzeug:127.0.0.1 - - [07/Oct/2022 08:48:46] \"\u001b[35m\u001b[1mPOST /food_categorical HTTP/1.1\u001b[0m\" 500 -\n"
     ]
    },
    {
     "name": "stdout",
     "output_type": "stream",
     "text": [
      "錯誤： Incorrect padding\n"
     ]
    },
    {
     "name": "stderr",
     "output_type": "stream",
     "text": [
      "INFO:werkzeug:127.0.0.1 - - [07/Oct/2022 08:49:53] \"\u001b[37mPOST /food_categorical HTTP/1.1\u001b[0m\" 200 -\n"
     ]
    },
    {
     "name": "stdout",
     "output_type": "stream",
     "text": [
      "全部預測結果：\n",
      "[[ 0.08785  0.00411  0.00060  0.40342  0.01438  0.00789  0.01562  0.00454\n",
      "   0.00037  0.01268  0.00630  0.22669  0.10618  0.00004  0.02273  0.00794\n",
      "   0.07864  0.00001]]\n",
      "機率最高：0.40341693\n",
      "個別結果：\n",
      "第1張：珍珠奶茶\n"
     ]
    }
   ],
   "source": [
    "from flask import Flask\n",
    "from flask import request\n",
    "from flask_ngrok import run_with_ngrok\n",
    "\n",
    "from PIL import Image\n",
    "from io import BytesIO\n",
    "import base64\n",
    "\n",
    "app = Flask(__name__)\n",
    "run_with_ngrok(app)\n",
    "\n",
    "@app.route('/food_menu', methods = ['GET', 'POST'])\n",
    "def food_menu():\n",
    "    if request.method == 'GET': #<p><input type='file' required name='image' accept= \"image/gif, image/jpeg, image/jpg, image/png\"></p>\n",
    "        return \"\"\"\n",
    "        <form method='post' action='' enctype=\"multipart/form-data\">\n",
    "            <p><input type='text' required name='str_of_image'/></p>\n",
    "            <p><button type='submit'>確定</button></p>\n",
    "        </form>\n",
    "        \"\"\"\n",
    "    else:\n",
    "        try:\n",
    "            #img = Image.open(request.files['image'].stream).resize((160, 160)).convert('RGB')\n",
    "            #result = pre_food_menu(img)\n",
    "            \n",
    "            result = {}\n",
    "            str_of_img = request.values['str_of_image']\n",
    "            img = Image.open(BytesIO(base64.b64decode(str_of_img))).resize((160, 160)).convert('RGB')\n",
    "            result = pre_food_menu(img)\n",
    "\n",
    "            return result\n",
    "        except Exception as e:\n",
    "            print(\"錯誤：\", e)\n",
    "            return e\n",
    "        \n",
    "@app.route('/food_categorical', methods = ['GET', 'POST'])\n",
    "def food_categorical():\n",
    "    if request.method == 'GET': #<p><input type='file' required name='image' accept= \"image/gif, image/jpeg, image/jpg, image/png\"></p>\n",
    "        return \"\"\"\n",
    "        <form method='post' action='' enctype=\"multipart/form-data\">\n",
    "            <p><input type='text' required name='str_of_image'/></p>\n",
    "            <p><button type='submit'>確定</button></p>\n",
    "        </form>\n",
    "        \"\"\"\n",
    "    else:\n",
    "        try:\n",
    "            #img = Image.open(request.files['image'].stream).resize((200, 200)).convert('RGB')\n",
    "            #result = pre_food_categorical(img)\n",
    "\n",
    "            result = {}\n",
    "            str_of_img = request.values['str_of_image']\n",
    "            img = Image.open(BytesIO(base64.b64decode(str_of_img))).resize((200, 200)).convert('RGB')\n",
    "            result = pre_food_categorical(img)\n",
    "\n",
    "            return result\n",
    "        except Exception as e:\n",
    "            print(\"錯誤：\", e)\n",
    "            return e\n",
    "\n",
    "if __name__ == '__main__':\n",
    "    app.run()"
   ]
  }
 ],
 "metadata": {
  "colab": {
   "collapsed_sections": [],
   "provenance": []
  },
  "kernelspec": {
   "display_name": "Python 3 (ipykernel)",
   "language": "python",
   "name": "python3"
  },
  "language_info": {
   "codemirror_mode": {
    "name": "ipython",
    "version": 3
   },
   "file_extension": ".py",
   "mimetype": "text/x-python",
   "name": "python",
   "nbconvert_exporter": "python",
   "pygments_lexer": "ipython3",
   "version": "3.9.7"
  }
 },
 "nbformat": 4,
 "nbformat_minor": 1
}
