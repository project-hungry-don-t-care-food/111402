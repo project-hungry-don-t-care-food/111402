{
 "cells": [
  {
   "cell_type": "code",
   "execution_count": 1,
   "metadata": {
    "colab": {
     "base_uri": "https://localhost:8080/"
    },
    "executionInfo": {
     "elapsed": 10872,
     "status": "ok",
     "timestamp": 1661831782255,
     "user": {
      "displayName": "段宥任",
      "userId": "13882398319127726760"
     },
     "user_tz": -480
    },
    "id": "123h7Trm_Hkr",
    "outputId": "7222bf34-38e7-4803-aa0c-9f7b6f8b21ea"
   },
   "outputs": [],
   "source": [
    "#pip install pyngrok==4.1.1\n",
    "#pip install flask-ngrok"
   ]
  },
  {
   "cell_type": "code",
   "execution_count": 2,
   "metadata": {
    "colab": {
     "base_uri": "https://localhost:8080/"
    },
    "executionInfo": {
     "elapsed": 580,
     "status": "ok",
     "timestamp": 1661831782832,
     "user": {
      "displayName": "段宥任",
      "userId": "13882398319127726760"
     },
     "user_tz": -480
    },
    "id": "295JQlBg_UzP",
    "outputId": "03d288eb-0757-401a-f37b-ed3b1852ba81",
    "scrolled": false
   },
   "outputs": [],
   "source": [
    "# 2Cgo3ysthiZF4UGRmtAViko3bWr_4eC9s2WRv1kEWame8xih\n",
    "#!ngrok authtoken 2Cgo3ysthiZF4UGRmtAViko3bWr_4eC9s2WRv1kEWame8xih"
   ]
  },
  {
   "cell_type": "code",
   "execution_count": 3,
   "metadata": {
    "executionInfo": {
     "elapsed": 3,
     "status": "ok",
     "timestamp": 1661831782832,
     "user": {
      "displayName": "段宥任",
      "userId": "13882398319127726760"
     },
     "user_tz": -480
    },
    "id": "qslAPr1VV-S9"
   },
   "outputs": [],
   "source": [
    "def NTUB_string(user, pass_input):\n",
    "    return '帳號: ' + user + '  密碼: ' + pass_input"
   ]
  },
  {
   "cell_type": "code",
   "execution_count": 4,
   "metadata": {
    "colab": {
     "base_uri": "https://localhost:8080/"
    },
    "executionInfo": {
     "elapsed": 8009,
     "status": "ok",
     "timestamp": 1661831790839,
     "user": {
      "displayName": "段宥任",
      "userId": "13882398319127726760"
     },
     "user_tz": -480
    },
    "id": "092lffWibTy7",
    "outputId": "80b936ed-6358-422a-f0a0-6194ba9e7db2",
    "scrolled": false
   },
   "outputs": [
    {
     "name": "stdout",
     "output_type": "stream",
     "text": [
      "Model: \"sequential\"\n",
      "_________________________________________________________________\n",
      " Layer (type)                Output Shape              Param #   \n",
      "=================================================================\n",
      " resnet50 (Functional)       (None, 5, 5, 2048)        23587712  \n",
      "                                                                 \n",
      " dropout (Dropout)           (None, 5, 5, 2048)        0         \n",
      "                                                                 \n",
      " global_average_pooling2d (G  (None, 2048)             0         \n",
      " lobalAveragePooling2D)                                          \n",
      "                                                                 \n",
      " dropout_1 (Dropout)         (None, 2048)              0         \n",
      "                                                                 \n",
      " dense (Dense)               (None, 3)                 6147      \n",
      "                                                                 \n",
      "=================================================================\n",
      "Total params: 23,593,859\n",
      "Trainable params: 23,540,739\n",
      "Non-trainable params: 53,120\n",
      "_________________________________________________________________\n"
     ]
    }
   ],
   "source": [
    "\"\"\"## 1. 匯入套件\"\"\"\n",
    "\n",
    "import numpy as np\n",
    "import tensorflow as tf\n",
    "from tensorflow.keras.applications.resnet50 import ResNet50, preprocess_input\n",
    "from tensorflow.keras.models import Sequential\n",
    "from tensorflow.keras.layers import Dense\n",
    "from tensorflow.keras.layers import Dropout\n",
    "from tensorflow.keras.layers import GlobalAveragePooling2D\n",
    "from tensorflow.keras.preprocessing.image import img_to_array\n",
    "from tensorflow.keras.preprocessing.image import load_img\n",
    "\n",
    "import os\n",
    "#import cv2\n",
    "import matplotlib.pyplot as plt\n",
    "import warnings\n",
    "warnings.filterwarnings(\"ignore\")\n",
    "\n",
    "\"\"\"## 2. 建立模型\"\"\"\n",
    "\n",
    "resnet_model = ResNet50(weights=\"imagenet\", include_top=False, input_shape=(160, 160, 3))\n",
    "\n",
    "model = Sequential()\n",
    "model.add(resnet_model)\n",
    "model.add(Dropout(0.5))\n",
    "model.add(GlobalAveragePooling2D())\n",
    "model.add(Dropout(0.5))\n",
    "model.add(Dense(3, activation=\"softmax\"))\n",
    "model.summary()   # 顯示模型摘要資訊\n",
    "\n",
    "resnet_model.trainable = False\n",
    "\n",
    "\"\"\"## 3. 匯入權重\"\"\"\n",
    "\n",
    "model.load_weights(\"160_160_best_model.h5\")\n",
    "\n",
    "model.compile(loss=\"categorical_crossentropy\", optimizer=\"adam\", metrics=[\"accuracy\"])\n",
    "\n",
    "def pre(img):\n",
    "    img_np = np.empty((1,160,160,3))\n",
    "    img_np[0] = img\n",
    "    result = model.predict(img_np)\n",
    "    np.set_printoptions(formatter={'float': '{: 0.5f}'.format})\n",
    "    print(\"全部預測結果：\")\n",
    "    print(result, end = \"\\n\")\n",
    "    maxindex = np.argmax(result, axis = 1)\n",
    "    print(\"個別結果：\")\n",
    "    for index, i in enumerate(maxindex):\n",
    "        print(\"第\" + str(index + 1) + \"張：\", end = \"\")\n",
    "        if i == 0:\n",
    "            print(\"食物\")\n",
    "            return (\"食物\")\n",
    "        if i == 1:\n",
    "            print(\"非食物\")\n",
    "            return (\"非食物\")\n",
    "        if i == 2:\n",
    "            print(\"菜單\")\n",
    "            return (\"菜單\")"
   ]
  },
  {
   "cell_type": "code",
   "execution_count": 5,
   "metadata": {
    "colab": {
     "base_uri": "https://localhost:8080/"
    },
    "id": "ieM3VHtQZEP-",
    "outputId": "87619542-e8e9-49ae-bf28-82f9756980d8",
    "scrolled": false
   },
   "outputs": [
    {
     "name": "stdout",
     "output_type": "stream",
     "text": [
      " * Serving Flask app \"__main__\" (lazy loading)\n",
      " * Environment: production\n",
      "\u001b[31m   WARNING: This is a development server. Do not use it in a production deployment.\u001b[0m\n",
      "\u001b[2m   Use a production WSGI server instead.\u001b[0m\n",
      " * Debug mode: off\n"
     ]
    },
    {
     "name": "stderr",
     "output_type": "stream",
     "text": [
      " * Running on all addresses.\n",
      "   WARNING: This is a development server. Do not use it in a production deployment.\n",
      " * Running on http://10.0.0.4:5000/ (Press CTRL+C to quit)\n",
      "111.71.213.197 - - [04/Sep/2022 17:22:23] \"GET / HTTP/1.1\" 200 -\n"
     ]
    },
    {
     "name": "stdout",
     "output_type": "stream",
     "text": [
      "1/1 [==============================] - 2s 2s/step\n"
     ]
    },
    {
     "name": "stderr",
     "output_type": "stream",
     "text": [
      "111.71.213.197 - - [04/Sep/2022 17:22:45] \"POST / HTTP/1.1\" 200 -\n"
     ]
    },
    {
     "name": "stdout",
     "output_type": "stream",
     "text": [
      "全部預測結果：\n",
      "[[ 0.00004  0.03356  0.96640]]\n",
      "個別結果：\n",
      "第1張：菜單\n"
     ]
    }
   ],
   "source": [
    "from IPython.core.display import Image\n",
    "from flask import Flask\n",
    "from flask import request\n",
    "#from flask_ngrok import run_with_ngrok\n",
    "\n",
    "from PIL import Image\n",
    "\n",
    "app = Flask(__name__)\n",
    "#run_with_ngrok(app)\n",
    "\n",
    "@app.route('/', methods = ['GET', 'POST'])\n",
    "def index():\n",
    "    if request.method == 'GET':\n",
    "        return \"\"\"\n",
    "        <form method='post' action='' enctype=\"multipart/form-data\">\n",
    "            <p><input type='text' name='text'></p>\n",
    "            <p><input type='file' required name='image' accept= \"image/gif, image/jpeg, image/jpg, image/png\"></p>\n",
    "            <p><button type='submit'>確定</button></p>\n",
    "        </form>\n",
    "        \"\"\"\n",
    "    else:\n",
    "        try:\n",
    "            img = Image.open(request.files['image'].stream).resize((160, 160)).convert('RGB')\n",
    "            result = pre(img)\n",
    "            \n",
    "            return result\n",
    "        except Exception as e:\n",
    "            print(\"錯誤：\", e)\n",
    "            \n",
    "            return e\n",
    "\n",
    "if __name__ == '__main__':\n",
    "    app.run(host='0.0.0.0')"
   ]
  },
  {
   "cell_type": "code",
   "execution_count": null,
   "metadata": {},
   "outputs": [],
   "source": []
  }
 ],
 "metadata": {
  "colab": {
   "authorship_tag": "ABX9TyPEc6ztN8J9bkNR7nDr70cK",
   "collapsed_sections": [],
   "mount_file_id": "1vdOsT72ECkPMlHY2ZEg8NcmYMMKMmlen",
   "name": "Flask.ipynb",
   "provenance": []
  },
  "kernelspec": {
   "display_name": "Python 3 (ipykernel)",
   "language": "python",
   "name": "python3"
  },
  "language_info": {
   "codemirror_mode": {
    "name": "ipython",
    "version": 3
   },
   "file_extension": ".py",
   "mimetype": "text/x-python",
   "name": "python",
   "nbconvert_exporter": "python",
   "pygments_lexer": "ipython3",
   "version": "3.9.12"
  }
 },
 "nbformat": 4,
 "nbformat_minor": 1
}
