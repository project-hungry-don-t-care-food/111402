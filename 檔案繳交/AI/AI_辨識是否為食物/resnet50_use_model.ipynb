{
 "cells": [
  {
   "cell_type": "code",
   "execution_count": 1,
   "id": "d5d93d45",
   "metadata": {},
   "outputs": [],
   "source": [
    "import numpy as np\n",
    "import tensorflow as tf\n",
    "from tensorflow.keras.applications.resnet50 import ResNet50, preprocess_input\n",
    "from tensorflow.keras.models import Sequential\n",
    "from tensorflow.keras.layers import Dense\n",
    "from tensorflow.keras.layers import Flatten\n",
    "from tensorflow.keras.layers import Conv2D\n",
    "from tensorflow.keras.layers import MaxPooling2D\n",
    "from tensorflow.keras.layers import Dropout\n",
    "from tensorflow.keras.utils import to_categorical\n",
    "from tensorflow.keras.preprocessing.image import img_to_array\n",
    "from tensorflow.keras.preprocessing.image import load_img\n",
    "import os\n",
    "import cv2\n",
    "import matplotlib.pyplot as plt\n",
    "\n",
    "from tensorflow.keras.layers import GlobalAveragePooling2D\n",
    "from tensorflow.keras.callbacks import ModelCheckpoint\n",
    "from tensorflow.keras.callbacks import EarlyStopping"
   ]
  },
  {
   "cell_type": "code",
   "execution_count": 2,
   "id": "773da4d0",
   "metadata": {},
   "outputs": [],
   "source": [
    "resnet_model = ResNet50(weights=\"imagenet\",\n",
    "                        include_top=False,\n",
    "                        input_shape=(100, 100, 3))"
   ]
  },
  {
   "cell_type": "code",
   "execution_count": 3,
   "id": "7ace6658",
   "metadata": {},
   "outputs": [
    {
     "name": "stdout",
     "output_type": "stream",
     "text": [
      "Model: \"sequential\"\n",
      "_________________________________________________________________\n",
      " Layer (type)                Output Shape              Param #   \n",
      "=================================================================\n",
      " resnet50 (Functional)       (None, 4, 4, 2048)        23587712  \n",
      "                                                                 \n",
      " dropout (Dropout)           (None, 4, 4, 2048)        0         \n",
      "                                                                 \n",
      " global_average_pooling2d (G  (None, 2048)             0         \n",
      " lobalAveragePooling2D)                                          \n",
      "                                                                 \n",
      " dropout_1 (Dropout)         (None, 2048)              0         \n",
      "                                                                 \n",
      " dense (Dense)               (None, 2)                 4098      \n",
      "                                                                 \n",
      "=================================================================\n",
      "Total params: 23,591,810\n",
      "Trainable params: 23,538,690\n",
      "Non-trainable params: 53,120\n",
      "_________________________________________________________________\n"
     ]
    }
   ],
   "source": [
    "model = Sequential()\n",
    "model.add(resnet_model)\n",
    "model.add(Dropout(0.5))\n",
    "model.add(GlobalAveragePooling2D())\n",
    "model.add(Dropout(0.5))\n",
    "model.add(Dense(2, activation=\"softmax\"))\n",
    "model.summary()   # 顯示模型摘要資訊\n",
    "\n",
    "resnet_model.trainable = False"
   ]
  },
  {
   "cell_type": "code",
   "execution_count": 4,
   "id": "07e502b0",
   "metadata": {},
   "outputs": [],
   "source": [
    "model.load_weights(\"resnet50_best_model.h5\")"
   ]
  },
  {
   "cell_type": "code",
   "execution_count": 5,
   "id": "e56f6dbe",
   "metadata": {},
   "outputs": [],
   "source": [
    "model.compile(loss=\"binary_crossentropy\", optimizer=\"adam\",\n",
    "              metrics=[\"accuracy\"])"
   ]
  },
  {
   "cell_type": "code",
   "execution_count": 6,
   "id": "03d3512b",
   "metadata": {
    "scrolled": true
   },
   "outputs": [],
   "source": [
    "img_np = np.empty((2,100,100,3))\n",
    "\n",
    "img = load_img(\"photo.jpg\", target_size=(100, 100))\n",
    "x = img_to_array(img)\n",
    "img = x.reshape(1,x.shape[0],x.shape[1],x.shape[2])\n",
    "img = preprocess_input(img)\n",
    "\n",
    "img2 = load_img(\"photo2.jpg\", target_size=(100, 100))\n",
    "x = img_to_array(img2)\n",
    "img2 = x.reshape(1,x.shape[0],x.shape[1],x.shape[2])\n",
    "img2 = preprocess_input(img2)\n",
    "\n",
    "img_np[0] = img\n",
    "img_np[1] = img2"
   ]
  },
  {
   "cell_type": "code",
   "execution_count": 7,
   "id": "083c6323",
   "metadata": {},
   "outputs": [],
   "source": [
    "result = model.predict(img_np)"
   ]
  },
  {
   "cell_type": "code",
   "execution_count": 8,
   "id": "d40bc5af",
   "metadata": {},
   "outputs": [
    {
     "name": "stdout",
     "output_type": "stream",
     "text": [
      "[[0.99999833 0.00000166]\n",
      " [0.         1.        ]]\n",
      "[0 1]\n"
     ]
    }
   ],
   "source": [
    "np.set_printoptions(suppress=True)\n",
    "print(result)\n",
    "maxindex = np.argmax(result, axis = 1)\n",
    "print(maxindex)"
   ]
  },
  {
   "cell_type": "code",
   "execution_count": null,
   "id": "1d9e449f",
   "metadata": {},
   "outputs": [],
   "source": []
  }
 ],
 "metadata": {
  "kernelspec": {
   "display_name": "Python 3 (ipykernel)",
   "language": "python",
   "name": "python3"
  },
  "language_info": {
   "codemirror_mode": {
    "name": "ipython",
    "version": 3
   },
   "file_extension": ".py",
   "mimetype": "text/x-python",
   "name": "python",
   "nbconvert_exporter": "python",
   "pygments_lexer": "ipython3",
   "version": "3.9.7"
  }
 },
 "nbformat": 4,
 "nbformat_minor": 5
}
