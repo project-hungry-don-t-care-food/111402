{
 "cells": [
  {
   "cell_type": "code",
   "execution_count": 1,
   "id": "0e9a2718",
   "metadata": {},
   "outputs": [],
   "source": [
    "import numpy as np\n",
    "import pandas as pd\n",
    "from keras.models import Sequential\n",
    "from tensorflow.keras.utils import to_categorical\n",
    "np.random.seed(10)  # 指定亂數種子"
   ]
  },
  {
   "cell_type": "code",
   "execution_count": null,
   "id": "3fe1eec2",
   "metadata": {},
   "outputs": [],
   "source": [
    "# 載入糖尿病資料集\n",
    "df = pd.read_csv(\"./diabetes.csv\")\n",
    "dataset = df.values\n",
    "np.random.shuffle(dataset)  # 使用亂數打亂資料\n",
    "# 分割成特徵資料和標籤資料\n",
    "X = dataset[:, 0:8]\n",
    "Y = dataset[:, 8]\n",
    "# 特徵標準化\n",
    "X -= X.mean(axis=0)\n",
    "X /= X.std(axis=0)\n",
    "# One-hot編碼\n",
    "Y = to_categorical(Y)\n",
    "# 分割訓練和測試資料集\n",
    "X_train, Y_train = X[:690], Y[:690]     # 訓練資料前690筆\n",
    "X_test, Y_test = X[690:], Y[690:]       # 測試資料後78筆"
   ]
  },
  {
   "cell_type": "code",
   "execution_count": null,
   "id": "48065198",
   "metadata": {},
   "outputs": [],
   "source": [
    "# 載入模型\n",
    "from keras.models import load_model\n",
    "\n",
    "model = Sequential()\n",
    "model = load_model(\"2.h5\")\n",
    "model.summary()\n",
    "# 編譯模型\n",
    "model.compile(loss=\"binary_crossentropy\", optimizer=\"adam\", \n",
    "              metrics=[\"accuracy\"])"
   ]
  },
  {
   "cell_type": "code",
   "execution_count": null,
   "id": "c4e92446",
   "metadata": {},
   "outputs": [],
   "source": [
    "# 評估模型\n",
    "loss, accuracy = model.evaluate(X_test, Y_test)\n",
    "print(\"測試資料集的準確度 = {:.2f}\".format(accuracy))"
   ]
  },
  {
   "cell_type": "code",
   "execution_count": null,
   "id": "9d78130e",
   "metadata": {},
   "outputs": [],
   "source": [
    "predict_values = model.predict(X_test, batch_size=10, verbose=0)\n",
    "print(predict_values[0])"
   ]
  }
 ],
 "metadata": {
  "kernelspec": {
   "display_name": "Python 3 (ipykernel)",
   "language": "python",
   "name": "python3"
  },
  "language_info": {
   "codemirror_mode": {
    "name": "ipython",
    "version": 3
   },
   "file_extension": ".py",
   "mimetype": "text/x-python",
   "name": "python",
   "nbconvert_exporter": "python",
   "pygments_lexer": "ipython3",
   "version": "3.9.7"
  }
 },
 "nbformat": 4,
 "nbformat_minor": 5
}
