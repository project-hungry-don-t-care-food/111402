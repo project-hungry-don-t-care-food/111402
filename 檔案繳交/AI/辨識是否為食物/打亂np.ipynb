{
 "cells": [
  {
   "cell_type": "code",
   "execution_count": 1,
   "id": "24bddd01",
   "metadata": {},
   "outputs": [],
   "source": [
    "#第一種方法"
   ]
  },
  {
   "cell_type": "code",
   "execution_count": 2,
   "id": "0227bc5c",
   "metadata": {},
   "outputs": [],
   "source": [
    "import numpy as np"
   ]
  },
  {
   "cell_type": "code",
   "execution_count": 3,
   "id": "c60b82e3",
   "metadata": {},
   "outputs": [],
   "source": [
    "def shuffle_in_unison_scary(a, b):\n",
    "    rng_state = np.random.get_state()\n",
    "    np.random.shuffle(a)\n",
    "    np.random.set_state(rng_state)\n",
    "    np.random.shuffle(b)"
   ]
  },
  {
   "cell_type": "code",
   "execution_count": 4,
   "id": "bb23f844",
   "metadata": {},
   "outputs": [],
   "source": [
    "a = np.array([\n",
    "     [[0, 1], [1, 1], [1, 1]],\n",
    "     [[1, 8], [9, 10], [11, 12]],\n",
    "     [[2, 14], [15, 16], [17, 18]]\n",
    "     ])\n",
    "b = np.asarray([0, 1, 2])\n",
    "shuffle_in_unison_scary(a, b)"
   ]
  },
  {
   "cell_type": "code",
   "execution_count": 5,
   "id": "dfee1e00",
   "metadata": {},
   "outputs": [
    {
     "name": "stdout",
     "output_type": "stream",
     "text": [
      "[[[ 1  8]\n",
      "  [ 9 10]\n",
      "  [11 12]]\n",
      "\n",
      " [[ 0  1]\n",
      "  [ 1  1]\n",
      "  [ 1  1]]\n",
      "\n",
      " [[ 2 14]\n",
      "  [15 16]\n",
      "  [17 18]]]\n",
      "[1 0 2]\n"
     ]
    }
   ],
   "source": [
    "print(a)\n",
    "print(b)"
   ]
  },
  {
   "cell_type": "code",
   "execution_count": null,
   "id": "bbf87d0e",
   "metadata": {},
   "outputs": [],
   "source": []
  },
  {
   "cell_type": "code",
   "execution_count": 6,
   "id": "f57f0b6b",
   "metadata": {},
   "outputs": [],
   "source": [
    "#第二種方法"
   ]
  },
  {
   "cell_type": "code",
   "execution_count": 7,
   "id": "2b051989",
   "metadata": {},
   "outputs": [
    {
     "name": "stdout",
     "output_type": "stream",
     "text": [
      "[[0. 0.]\n",
      " [2. 2.]\n",
      " [1. 1.]]\n",
      "[0 2 1]\n"
     ]
    }
   ],
   "source": [
    "X = np.array([[0., 0.], [1., 1.], [2., 2.]])\n",
    "y = np.array([0, 1, 2])\n",
    "from sklearn.utils import shuffle\n",
    "X, y = shuffle(X, y, random_state=1)\n",
    "print(X)\n",
    "print(y)"
   ]
  },
  {
   "cell_type": "code",
   "execution_count": 8,
   "id": "a581ef3f",
   "metadata": {},
   "outputs": [
    {
     "name": "stdout",
     "output_type": "stream",
     "text": [
      "[[[ 1  8]\n",
      "  [ 9 10]\n",
      "  [11 12]]\n",
      "\n",
      " [[ 0  1]\n",
      "  [ 1  1]\n",
      "  [ 1  1]]\n",
      "\n",
      " [[ 2 14]\n",
      "  [15 16]\n",
      "  [17 18]]]\n",
      "[2 0 1]\n"
     ]
    }
   ],
   "source": [
    "X = np.array([\n",
    "     [[0, 1], [1, 1], [1, 1]],\n",
    "     [[1, 8], [9, 10], [11, 12]],\n",
    "     [[2, 14], [15, 16], [17, 18]]\n",
    "     ])\n",
    "X, y = shuffle(X, y, random_state=4)\n",
    "print(X)\n",
    "print(y)"
   ]
  }
 ],
 "metadata": {
  "kernelspec": {
   "display_name": "Python 3 (ipykernel)",
   "language": "python",
   "name": "python3"
  },
  "language_info": {
   "codemirror_mode": {
    "name": "ipython",
    "version": 3
   },
   "file_extension": ".py",
   "mimetype": "text/x-python",
   "name": "python",
   "nbconvert_exporter": "python",
   "pygments_lexer": "ipython3",
   "version": "3.9.7"
  }
 },
 "nbformat": 4,
 "nbformat_minor": 5
}
